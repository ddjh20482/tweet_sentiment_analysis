{
 "cells": [
  {
   "cell_type": "markdown",
   "metadata": {},
   "source": [
    "# Tweet Sentiment Analysis\n",
    "![tweet_sentiment](./images/tweet_sentiment.jpg)"
   ]
  },
  {
   "cell_type": "markdown",
   "metadata": {},
   "source": [
    "# Overview\n",
    "An investment company wants to invest in the stock of one of two companies, Apple and  Google. Visualizations and text summaries are included at the end.\n",
    "\n",
    "#  Business Problem\n",
    "An investment company is collecting information to make a decision before investing in the stock of one of two companies, Apple and Google, and they are interested in market performance based on customer reviews. One way to check the reviews is to check customerss tweet sentiments. Based on tweet sentiments, one of two companies will be recommended.\n",
    "\n",
    "# Data Understanding\n",
    "\n",
    "The dataset has 3 columns, Tweet text, brand, and emotion rating. The dataset contains more than 9000 texts."
   ]
  },
  {
   "cell_type": "code",
   "execution_count": 1,
   "metadata": {},
   "outputs": [],
   "source": [
    "# import necessar libraries\n",
    "import pandas as pd\n",
    "import numpy as np\n",
    "import matplotlib.pyplot as plt\n",
    "%matplotlib inline\n",
    "\n",
    "import warnings\n",
    "warnings.filterwarnings(action='ignore')"
   ]
  },
  {
   "cell_type": "code",
   "execution_count": 2,
   "metadata": {},
   "outputs": [],
   "source": [
    "# read data\n",
    "data = pd.read_csv(\"./data/tweet_sentiment_analysis.csv\", encoding='latin1')"
   ]
  },
  {
   "cell_type": "code",
   "execution_count": 3,
   "metadata": {},
   "outputs": [
    {
     "data": {
      "text/html": [
       "<div>\n",
       "<style scoped>\n",
       "    .dataframe tbody tr th:only-of-type {\n",
       "        vertical-align: middle;\n",
       "    }\n",
       "\n",
       "    .dataframe tbody tr th {\n",
       "        vertical-align: top;\n",
       "    }\n",
       "\n",
       "    .dataframe thead th {\n",
       "        text-align: right;\n",
       "    }\n",
       "</style>\n",
       "<table border=\"1\" class=\"dataframe\">\n",
       "  <thead>\n",
       "    <tr style=\"text-align: right;\">\n",
       "      <th></th>\n",
       "      <th>tweet_text</th>\n",
       "      <th>emotion_in_tweet_is_directed_at</th>\n",
       "      <th>is_there_an_emotion_directed_at_a_brand_or_product</th>\n",
       "    </tr>\n",
       "  </thead>\n",
       "  <tbody>\n",
       "    <tr>\n",
       "      <th>0</th>\n",
       "      <td>.@wesley83 I have a 3G iPhone. After 3 hrs twe...</td>\n",
       "      <td>iPhone</td>\n",
       "      <td>Negative emotion</td>\n",
       "    </tr>\n",
       "    <tr>\n",
       "      <th>1</th>\n",
       "      <td>@jessedee Know about @fludapp ? Awesome iPad/i...</td>\n",
       "      <td>iPad or iPhone App</td>\n",
       "      <td>Positive emotion</td>\n",
       "    </tr>\n",
       "    <tr>\n",
       "      <th>2</th>\n",
       "      <td>@swonderlin Can not wait for #iPad 2 also. The...</td>\n",
       "      <td>iPad</td>\n",
       "      <td>Positive emotion</td>\n",
       "    </tr>\n",
       "    <tr>\n",
       "      <th>3</th>\n",
       "      <td>@sxsw I hope this year's festival isn't as cra...</td>\n",
       "      <td>iPad or iPhone App</td>\n",
       "      <td>Negative emotion</td>\n",
       "    </tr>\n",
       "    <tr>\n",
       "      <th>4</th>\n",
       "      <td>@sxtxstate great stuff on Fri #SXSW: Marissa M...</td>\n",
       "      <td>Google</td>\n",
       "      <td>Positive emotion</td>\n",
       "    </tr>\n",
       "  </tbody>\n",
       "</table>\n",
       "</div>"
      ],
      "text/plain": [
       "                                          tweet_text  \\\n",
       "0  .@wesley83 I have a 3G iPhone. After 3 hrs twe...   \n",
       "1  @jessedee Know about @fludapp ? Awesome iPad/i...   \n",
       "2  @swonderlin Can not wait for #iPad 2 also. The...   \n",
       "3  @sxsw I hope this year's festival isn't as cra...   \n",
       "4  @sxtxstate great stuff on Fri #SXSW: Marissa M...   \n",
       "\n",
       "  emotion_in_tweet_is_directed_at  \\\n",
       "0                          iPhone   \n",
       "1              iPad or iPhone App   \n",
       "2                            iPad   \n",
       "3              iPad or iPhone App   \n",
       "4                          Google   \n",
       "\n",
       "  is_there_an_emotion_directed_at_a_brand_or_product  \n",
       "0                                   Negative emotion  \n",
       "1                                   Positive emotion  \n",
       "2                                   Positive emotion  \n",
       "3                                   Negative emotion  \n",
       "4                                   Positive emotion  "
      ]
     },
     "execution_count": 3,
     "metadata": {},
     "output_type": "execute_result"
    }
   ],
   "source": [
    "data.head()"
   ]
  },
  {
   "cell_type": "code",
   "execution_count": 4,
   "metadata": {},
   "outputs": [
    {
     "name": "stdout",
     "output_type": "stream",
     "text": [
      "<class 'pandas.core.frame.DataFrame'>\n",
      "RangeIndex: 9093 entries, 0 to 9092\n",
      "Data columns (total 3 columns):\n",
      " #   Column                                              Non-Null Count  Dtype \n",
      "---  ------                                              --------------  ----- \n",
      " 0   tweet_text                                          9092 non-null   object\n",
      " 1   emotion_in_tweet_is_directed_at                     3291 non-null   object\n",
      " 2   is_there_an_emotion_directed_at_a_brand_or_product  9093 non-null   object\n",
      "dtypes: object(3)\n",
      "memory usage: 213.2+ KB\n"
     ]
    }
   ],
   "source": [
    "data.info()"
   ]
  },
  {
   "cell_type": "markdown",
   "metadata": {},
   "source": [
    "# Data Cleaning\n",
    "## Handling Missing Values\n",
    "Below shows all column with the number of missing values."
   ]
  },
  {
   "cell_type": "code",
   "execution_count": 5,
   "metadata": {},
   "outputs": [
    {
     "data": {
      "text/plain": [
       "tweet_text                                               1\n",
       "emotion_in_tweet_is_directed_at                       5802\n",
       "is_there_an_emotion_directed_at_a_brand_or_product       0\n",
       "dtype: int64"
      ]
     },
     "execution_count": 5,
     "metadata": {},
     "output_type": "execute_result"
    }
   ],
   "source": [
    "data.isna().sum()"
   ]
  },
  {
   "cell_type": "markdown",
   "metadata": {},
   "source": [
    "There is one missing value in the tweet_text column. Therefore, it is deleted.\n"
   ]
  },
  {
   "cell_type": "code",
   "execution_count": 6,
   "metadata": {},
   "outputs": [],
   "source": [
    "# drop missing text\n",
    "data.dropna(subset = ['tweet_text'], inplace = True)"
   ]
  },
  {
   "cell_type": "code",
   "execution_count": 7,
   "metadata": {},
   "outputs": [
    {
     "data": {
      "text/plain": [
       "tweet_text                                               0\n",
       "emotion_in_tweet_is_directed_at                       5801\n",
       "is_there_an_emotion_directed_at_a_brand_or_product       0\n",
       "dtype: int64"
      ]
     },
     "execution_count": 7,
     "metadata": {},
     "output_type": "execute_result"
    }
   ],
   "source": [
    "data.isna().sum()"
   ]
  },
  {
   "cell_type": "markdown",
   "metadata": {},
   "source": [
    "## Renaming column names\n",
    "Long column names are shortened for coding convenience and readability."
   ]
  },
  {
   "cell_type": "code",
   "execution_count": 8,
   "metadata": {},
   "outputs": [],
   "source": [
    "data.rename(columns={\"emotion_in_tweet_is_directed_at\": \"brand\", \n",
    "                     \"is_there_an_emotion_directed_at_a_brand_or_product\": \"emotion\"\n",
    "                    },\n",
    "            inplace = True\n",
    "           )"
   ]
  },
  {
   "cell_type": "code",
   "execution_count": 9,
   "metadata": {},
   "outputs": [
    {
     "name": "stdout",
     "output_type": "stream",
     "text": [
      "<class 'pandas.core.frame.DataFrame'>\n",
      "Int64Index: 9092 entries, 0 to 9092\n",
      "Data columns (total 3 columns):\n",
      " #   Column      Non-Null Count  Dtype \n",
      "---  ------      --------------  ----- \n",
      " 0   tweet_text  9092 non-null   object\n",
      " 1   brand       3291 non-null   object\n",
      " 2   emotion     9092 non-null   object\n",
      "dtypes: object(3)\n",
      "memory usage: 284.1+ KB\n"
     ]
    }
   ],
   "source": [
    "data.info()"
   ]
  },
  {
   "cell_type": "code",
   "execution_count": 10,
   "metadata": {},
   "outputs": [
    {
     "data": {
      "text/html": [
       "<div>\n",
       "<style scoped>\n",
       "    .dataframe tbody tr th:only-of-type {\n",
       "        vertical-align: middle;\n",
       "    }\n",
       "\n",
       "    .dataframe tbody tr th {\n",
       "        vertical-align: top;\n",
       "    }\n",
       "\n",
       "    .dataframe thead th {\n",
       "        text-align: right;\n",
       "    }\n",
       "</style>\n",
       "<table border=\"1\" class=\"dataframe\">\n",
       "  <thead>\n",
       "    <tr style=\"text-align: right;\">\n",
       "      <th></th>\n",
       "      <th>tweet_text</th>\n",
       "      <th>brand</th>\n",
       "      <th>emotion</th>\n",
       "    </tr>\n",
       "  </thead>\n",
       "  <tbody>\n",
       "    <tr>\n",
       "      <th>0</th>\n",
       "      <td>.@wesley83 I have a 3G iPhone. After 3 hrs tweeting at #RISE_Austin, it was dead!  I need to upgrade. Plugin stations at #SXSW.</td>\n",
       "      <td>iPhone</td>\n",
       "      <td>Negative emotion</td>\n",
       "    </tr>\n",
       "    <tr>\n",
       "      <th>1</th>\n",
       "      <td>@jessedee Know about @fludapp ? Awesome iPad/iPhone app that you'll likely appreciate for its design. Also, they're giving free Ts at #SXSW</td>\n",
       "      <td>iPad or iPhone App</td>\n",
       "      <td>Positive emotion</td>\n",
       "    </tr>\n",
       "    <tr>\n",
       "      <th>2</th>\n",
       "      <td>@swonderlin Can not wait for #iPad 2 also. They should sale them down at #SXSW.</td>\n",
       "      <td>iPad</td>\n",
       "      <td>Positive emotion</td>\n",
       "    </tr>\n",
       "    <tr>\n",
       "      <th>3</th>\n",
       "      <td>@sxsw I hope this year's festival isn't as crashy as this year's iPhone app. #sxsw</td>\n",
       "      <td>iPad or iPhone App</td>\n",
       "      <td>Negative emotion</td>\n",
       "    </tr>\n",
       "    <tr>\n",
       "      <th>4</th>\n",
       "      <td>@sxtxstate great stuff on Fri #SXSW: Marissa Mayer (Google), Tim O'Reilly (tech books/conferences) &amp;amp; Matt Mullenweg (Wordpress)</td>\n",
       "      <td>Google</td>\n",
       "      <td>Positive emotion</td>\n",
       "    </tr>\n",
       "  </tbody>\n",
       "</table>\n",
       "</div>"
      ],
      "text/plain": [
       "                                                                                                                                    tweet_text  \\\n",
       "0              .@wesley83 I have a 3G iPhone. After 3 hrs tweeting at #RISE_Austin, it was dead!  I need to upgrade. Plugin stations at #SXSW.   \n",
       "1  @jessedee Know about @fludapp ? Awesome iPad/iPhone app that you'll likely appreciate for its design. Also, they're giving free Ts at #SXSW   \n",
       "2                                                              @swonderlin Can not wait for #iPad 2 also. They should sale them down at #SXSW.   \n",
       "3                                                           @sxsw I hope this year's festival isn't as crashy as this year's iPhone app. #sxsw   \n",
       "4          @sxtxstate great stuff on Fri #SXSW: Marissa Mayer (Google), Tim O'Reilly (tech books/conferences) &amp; Matt Mullenweg (Wordpress)   \n",
       "\n",
       "                brand           emotion  \n",
       "0              iPhone  Negative emotion  \n",
       "1  iPad or iPhone App  Positive emotion  \n",
       "2                iPad  Positive emotion  \n",
       "3  iPad or iPhone App  Negative emotion  \n",
       "4              Google  Positive emotion  "
      ]
     },
     "execution_count": 10,
     "metadata": {},
     "output_type": "execute_result"
    }
   ],
   "source": [
    "pd.set_option('max_colwidth', 400)\n",
    "\n",
    "data.head()"
   ]
  },
  {
   "cell_type": "markdown",
   "metadata": {},
   "source": [
    "## Tweet text cleaning\n",
    "Below steps will do cleaning that is specifically designed for tweet texts. The reference is from this [link](https://towardsdatascience.com/another-twitter-sentiment-analysis-bb5b01ebad90). Steps below will be helpful tokenizing the texts.\n",
    "\n",
    "1. Clean up HTML encodings by removing &amp, &quot, etc."
   ]
  },
  {
   "cell_type": "code",
   "execution_count": 11,
   "metadata": {},
   "outputs": [
    {
     "data": {
      "text/plain": [
       "\"@sxtxstate great stuff on Fri #SXSW: Marissa Mayer (Google), Tim O'Reilly (tech books/conferences) &amp; Matt Mullenweg (Wordpress)\""
      ]
     },
     "execution_count": 11,
     "metadata": {},
     "output_type": "execute_result"
    }
   ],
   "source": [
    "# example 1 text\n",
    "data.tweet_text[4]"
   ]
  },
  {
   "cell_type": "code",
   "execution_count": 12,
   "metadata": {},
   "outputs": [
    {
     "data": {
      "text/plain": [
       "'The best!  RT @mention Ha! First in line for #ipad2 at #sxsw &quot;pop-up&quot; Apple store was an event planner #eventprofs #pcma #engage365'"
      ]
     },
     "execution_count": 12,
     "metadata": {},
     "output_type": "execute_result"
    }
   ],
   "source": [
    "# example 2 text\n",
    "data.tweet_text[36]"
   ]
  },
  {
   "cell_type": "code",
   "execution_count": 13,
   "metadata": {},
   "outputs": [
    {
     "name": "stdout",
     "output_type": "stream",
     "text": [
      "@sxtxstate great stuff on Fri #SXSW: Marissa Mayer (Google), Tim O'Reilly (tech books/conferences) & Matt Mullenweg (Wordpress)\n"
     ]
    }
   ],
   "source": [
    "# HTML decoding\n",
    "# removes &amp, &quot, etc\n",
    "# cleaned example 1 text\n",
    "from bs4 import BeautifulSoup\n",
    "example1 = BeautifulSoup(data.tweet_text[4], 'lxml')\n",
    "print(example1.get_text())"
   ]
  },
  {
   "cell_type": "code",
   "execution_count": 14,
   "metadata": {},
   "outputs": [
    {
     "name": "stdout",
     "output_type": "stream",
     "text": [
      "The best!  RT @mention Ha! First in line for #ipad2 at #sxsw \"pop-up\" Apple store was an event planner #eventprofs #pcma #engage365\n"
     ]
    }
   ],
   "source": [
    "# HTML decoding\n",
    "# removes &amp, &quot, etc\n",
    "# cleaned example 2 text\n",
    "example2 = BeautifulSoup(data.tweet_text[36], 'lxml')\n",
    "print(example2.get_text())"
   ]
  },
  {
   "cell_type": "markdown",
   "metadata": {},
   "source": [
    "2. Clean up mentions by removing @mention."
   ]
  },
  {
   "cell_type": "code",
   "execution_count": 15,
   "metadata": {},
   "outputs": [
    {
     "data": {
      "text/plain": [
       "\" great stuff on Fri #SXSW: Marissa Mayer (Google), Tim O'Reilly (tech books/conferences) & Matt Mullenweg (Wordpress)\""
      ]
     },
     "execution_count": 15,
     "metadata": {},
     "output_type": "execute_result"
    }
   ],
   "source": [
    "# removes @mentions\n",
    "# cleaned example 1 text\n",
    "import re\n",
    "re.sub(r'@[A-Za-z0-9]+','',example1.get_text())"
   ]
  },
  {
   "cell_type": "markdown",
   "metadata": {},
   "source": [
    "3. Clean up URLs by removing them."
   ]
  },
  {
   "cell_type": "code",
   "execution_count": 16,
   "metadata": {},
   "outputs": [
    {
     "data": {
      "text/plain": [
       "'RT @mention Retrollect is now also in Android Market! #SxSW https://market.android.com/details?id=com.borderstylo.retrollect'"
      ]
     },
     "execution_count": 16,
     "metadata": {},
     "output_type": "execute_result"
    }
   ],
   "source": [
    "# example 3 text\n",
    "data.tweet_text[6478]"
   ]
  },
  {
   "cell_type": "code",
   "execution_count": 17,
   "metadata": {},
   "outputs": [
    {
     "data": {
      "text/plain": [
       "'RT @mention Retrollect is now also in Android Market! #SxSW '"
      ]
     },
     "execution_count": 17,
     "metadata": {},
     "output_type": "execute_result"
    }
   ],
   "source": [
    "# removes URL links\n",
    "# cleaned example 3 text\n",
    "re.sub('https?://[A-Za-z0-9./?/=]+','',data.tweet_text[6478])"
   ]
  },
  {
   "cell_type": "markdown",
   "metadata": {},
   "source": [
    "4. Pick only letters."
   ]
  },
  {
   "cell_type": "code",
   "execution_count": 18,
   "metadata": {},
   "outputs": [
    {
     "data": {
      "text/plain": [
       "'The best   RT  mention Ha  First in line for  ipad  at  sxsw  pop up  Apple store was an event planner  eventprofs  pcma  engage   '"
      ]
     },
     "execution_count": 18,
     "metadata": {},
     "output_type": "execute_result"
    }
   ],
   "source": [
    "# letters only\n",
    "# example 2 text\n",
    "re.sub(\"[^a-zA-Z]\", \" \", example2.get_text())"
   ]
  },
  {
   "cell_type": "markdown",
   "metadata": {},
   "source": [
    "The above steps are combined and applied to every text in the dataset."
   ]
  },
  {
   "cell_type": "code",
   "execution_count": 19,
   "metadata": {},
   "outputs": [
    {
     "data": {
      "text/html": [
       "<div>\n",
       "<style scoped>\n",
       "    .dataframe tbody tr th:only-of-type {\n",
       "        vertical-align: middle;\n",
       "    }\n",
       "\n",
       "    .dataframe tbody tr th {\n",
       "        vertical-align: top;\n",
       "    }\n",
       "\n",
       "    .dataframe thead th {\n",
       "        text-align: right;\n",
       "    }\n",
       "</style>\n",
       "<table border=\"1\" class=\"dataframe\">\n",
       "  <thead>\n",
       "    <tr style=\"text-align: right;\">\n",
       "      <th></th>\n",
       "      <th>tweet_text</th>\n",
       "      <th>brand</th>\n",
       "      <th>emotion</th>\n",
       "    </tr>\n",
       "  </thead>\n",
       "  <tbody>\n",
       "    <tr>\n",
       "      <th>0</th>\n",
       "      <td>i have a g iphone after hrs tweeting at rise austin it was dead i need to upgrade plugin stations at sxsw</td>\n",
       "      <td>iPhone</td>\n",
       "      <td>Negative emotion</td>\n",
       "    </tr>\n",
       "    <tr>\n",
       "      <th>1</th>\n",
       "      <td>know about awesome ipad iphone app that you ll likely appreciate for its design also they re giving free ts at sxsw</td>\n",
       "      <td>iPad or iPhone App</td>\n",
       "      <td>Positive emotion</td>\n",
       "    </tr>\n",
       "    <tr>\n",
       "      <th>2</th>\n",
       "      <td>can not wait for ipad also they should sale them down at sxsw</td>\n",
       "      <td>iPad</td>\n",
       "      <td>Positive emotion</td>\n",
       "    </tr>\n",
       "    <tr>\n",
       "      <th>3</th>\n",
       "      <td>i hope this year s festival isn t as crashy as this year s iphone app sxsw</td>\n",
       "      <td>iPad or iPhone App</td>\n",
       "      <td>Negative emotion</td>\n",
       "    </tr>\n",
       "    <tr>\n",
       "      <th>4</th>\n",
       "      <td>great stuff on fri sxsw marissa mayer google tim o reilly tech books conferences matt mullenweg wordpress</td>\n",
       "      <td>Google</td>\n",
       "      <td>Positive emotion</td>\n",
       "    </tr>\n",
       "  </tbody>\n",
       "</table>\n",
       "</div>"
      ],
      "text/plain": [
       "                                                                                                            tweet_text  \\\n",
       "0            i have a g iphone after hrs tweeting at rise austin it was dead i need to upgrade plugin stations at sxsw   \n",
       "1  know about awesome ipad iphone app that you ll likely appreciate for its design also they re giving free ts at sxsw   \n",
       "2                                                        can not wait for ipad also they should sale them down at sxsw   \n",
       "3                                           i hope this year s festival isn t as crashy as this year s iphone app sxsw   \n",
       "4            great stuff on fri sxsw marissa mayer google tim o reilly tech books conferences matt mullenweg wordpress   \n",
       "\n",
       "                brand           emotion  \n",
       "0              iPhone  Negative emotion  \n",
       "1  iPad or iPhone App  Positive emotion  \n",
       "2                iPad  Positive emotion  \n",
       "3  iPad or iPhone App  Negative emotion  \n",
       "4              Google  Positive emotion  "
      ]
     },
     "execution_count": 19,
     "metadata": {},
     "output_type": "execute_result"
    }
   ],
   "source": [
    "from nltk.tokenize import WordPunctTokenizer\n",
    "tok = WordPunctTokenizer()\n",
    "\n",
    "import code.data_preparation as dp\n",
    "\n",
    "data.tweet_text = data.tweet_text.apply(dp.cleaning)\n",
    "\n",
    "data.head()"
   ]
  },
  {
   "cell_type": "markdown",
   "metadata": {},
   "source": [
    "## Cleaning target columns\n",
    "This would transform the brand column and emotion column in to columns with three categories.\n",
    "### Frequency Check\n",
    "Frequency of values are checked before merging same categories."
   ]
  },
  {
   "cell_type": "code",
   "execution_count": 20,
   "metadata": {},
   "outputs": [
    {
     "data": {
      "text/plain": [
       "iPad                               946\n",
       "Apple                              661\n",
       "iPad or iPhone App                 470\n",
       "Google                             430\n",
       "iPhone                             297\n",
       "Other Google product or service    293\n",
       "Android App                         81\n",
       "Android                             78\n",
       "Other Apple product or service      35\n",
       "Name: brand, dtype: int64"
      ]
     },
     "execution_count": 20,
     "metadata": {},
     "output_type": "execute_result"
    }
   ],
   "source": [
    "# the target\n",
    "data.brand.value_counts()"
   ]
  },
  {
   "cell_type": "code",
   "execution_count": 21,
   "metadata": {},
   "outputs": [
    {
     "data": {
      "text/plain": [
       "No emotion toward brand or product    5388\n",
       "Positive emotion                      2978\n",
       "Negative emotion                       570\n",
       "I can't tell                           156\n",
       "Name: emotion, dtype: int64"
      ]
     },
     "execution_count": 21,
     "metadata": {},
     "output_type": "execute_result"
    }
   ],
   "source": [
    "data.emotion.value_counts()"
   ]
  },
  {
   "cell_type": "markdown",
   "metadata": {},
   "source": [
    "### Categorization"
   ]
  },
  {
   "cell_type": "code",
   "execution_count": 22,
   "metadata": {},
   "outputs": [],
   "source": [
    "# Updating 'No emotion toward brand or product' to 'No Emotion' for the readability.\n",
    "data.emotion.loc[data.emotion == 'No emotion toward brand or product'] = 'No Emotion'"
   ]
  },
  {
   "cell_type": "markdown",
   "metadata": {},
   "source": [
    "Texts with available brand information are categorized based on brand information.\n",
    "1. 'iOS' - Apple's mobile products\n",
    "2. 'Android' - Google's mobile products\n",
    "3. 'Apple' - Apple's other products\n",
    "4. 'Google' - Google's other products"
   ]
  },
  {
   "cell_type": "code",
   "execution_count": 23,
   "metadata": {},
   "outputs": [],
   "source": [
    "# determine categories by catching words in the brand column\n",
    "def pick(brand):\n",
    "    if brand in ['iPad or iPhone App', 'iPad', 'iPhone']:\n",
    "        return 'iOS'\n",
    "    elif brand in ['Android App', 'Android']:\n",
    "        return 'Android'\n",
    "    elif brand in ['Apple', 'Other Google product or service']:\n",
    "        return 'Apple'\n",
    "    elif brand in ['Google', 'Other Google product or service']:\n",
    "        return 'Google'\n",
    "    else:\n",
    "        return 'None'"
   ]
  },
  {
   "cell_type": "code",
   "execution_count": 24,
   "metadata": {},
   "outputs": [],
   "source": [
    "data['brand_label'] = data.brand.apply(pick)"
   ]
  },
  {
   "cell_type": "code",
   "execution_count": 25,
   "metadata": {},
   "outputs": [
    {
     "data": {
      "text/plain": [
       "None       5836\n",
       "iOS        1713\n",
       "Apple       954\n",
       "Google      430\n",
       "Android     159\n",
       "Name: brand_label, dtype: int64"
      ]
     },
     "execution_count": 25,
     "metadata": {},
     "output_type": "execute_result"
    }
   ],
   "source": [
    "data.brand_label.value_counts()"
   ]
  },
  {
   "cell_type": "markdown",
   "metadata": {},
   "source": [
    "# Analysis\n",
    "The data can be separated into two sets, texts with brand information and texts without brand information. The texts with brand information are already categorized in the above step. The texts without brand information will be categorized by predicting what words exist in the texts. We will train the data using texts with available brand information, then use the trained model to predict/categorize texts without brand information.\n",
    "\n",
    "The texts without brand information (64% of data) are not useful for now, but once the texts are categorized, much more information is gathered thus making findings more valuable.\n",
    "## Brand Prediction\n",
    "Before the analysis, the data is split into data with brand information and data without brand information. "
   ]
  },
  {
   "cell_type": "code",
   "execution_count": 26,
   "metadata": {},
   "outputs": [],
   "source": [
    "data_no_target = data.loc[data.brand_label == 'None']\n",
    "data_with_target = data.loc[data.brand_label != 'None']"
   ]
  },
  {
   "cell_type": "code",
   "execution_count": 27,
   "metadata": {},
   "outputs": [
    {
     "data": {
      "text/plain": [
       "5836"
      ]
     },
     "execution_count": 27,
     "metadata": {},
     "output_type": "execute_result"
    }
   ],
   "source": [
    "# length of data without brand information\n",
    "len(data_no_target)"
   ]
  },
  {
   "cell_type": "code",
   "execution_count": 28,
   "metadata": {},
   "outputs": [
    {
     "data": {
      "text/plain": [
       "3256"
      ]
     },
     "execution_count": 28,
     "metadata": {},
     "output_type": "execute_result"
    }
   ],
   "source": [
    "# length of data with brand information\n",
    "len(data_with_target)"
   ]
  },
  {
   "cell_type": "markdown",
   "metadata": {},
   "source": [
    "Using data_with_target data, prediction steps are started.\n",
    "\n",
    "1. Encoding the target column."
   ]
  },
  {
   "cell_type": "code",
   "execution_count": 29,
   "metadata": {},
   "outputs": [],
   "source": [
    "# build a function for encoding target values\n",
    "trans = {'None' : 0,\n",
    "         'iOS' : 1,\n",
    "         'Apple' : 2,\n",
    "         'Android' : 3,\n",
    "         'Google' : 4\n",
    "        }\n",
    "\n",
    "def transform_target(data):\n",
    "    for k, v in trans.items():\n",
    "        if data == k:\n",
    "            data = v\n",
    "        else:\n",
    "            pass\n",
    "    return data"
   ]
  },
  {
   "cell_type": "code",
   "execution_count": 30,
   "metadata": {},
   "outputs": [],
   "source": [
    "data_with_target['target'] = data_with_target.brand_label.apply(transform_target)"
   ]
  },
  {
   "cell_type": "code",
   "execution_count": 31,
   "metadata": {},
   "outputs": [
    {
     "data": {
      "text/html": [
       "<div>\n",
       "<style scoped>\n",
       "    .dataframe tbody tr th:only-of-type {\n",
       "        vertical-align: middle;\n",
       "    }\n",
       "\n",
       "    .dataframe tbody tr th {\n",
       "        vertical-align: top;\n",
       "    }\n",
       "\n",
       "    .dataframe thead th {\n",
       "        text-align: right;\n",
       "    }\n",
       "</style>\n",
       "<table border=\"1\" class=\"dataframe\">\n",
       "  <thead>\n",
       "    <tr style=\"text-align: right;\">\n",
       "      <th></th>\n",
       "      <th>tweet_text</th>\n",
       "      <th>brand</th>\n",
       "      <th>emotion</th>\n",
       "      <th>brand_label</th>\n",
       "      <th>target</th>\n",
       "    </tr>\n",
       "  </thead>\n",
       "  <tbody>\n",
       "    <tr>\n",
       "      <th>0</th>\n",
       "      <td>i have a g iphone after hrs tweeting at rise austin it was dead i need to upgrade plugin stations at sxsw</td>\n",
       "      <td>iPhone</td>\n",
       "      <td>Negative emotion</td>\n",
       "      <td>iOS</td>\n",
       "      <td>1</td>\n",
       "    </tr>\n",
       "    <tr>\n",
       "      <th>1</th>\n",
       "      <td>know about awesome ipad iphone app that you ll likely appreciate for its design also they re giving free ts at sxsw</td>\n",
       "      <td>iPad or iPhone App</td>\n",
       "      <td>Positive emotion</td>\n",
       "      <td>iOS</td>\n",
       "      <td>1</td>\n",
       "    </tr>\n",
       "    <tr>\n",
       "      <th>2</th>\n",
       "      <td>can not wait for ipad also they should sale them down at sxsw</td>\n",
       "      <td>iPad</td>\n",
       "      <td>Positive emotion</td>\n",
       "      <td>iOS</td>\n",
       "      <td>1</td>\n",
       "    </tr>\n",
       "    <tr>\n",
       "      <th>3</th>\n",
       "      <td>i hope this year s festival isn t as crashy as this year s iphone app sxsw</td>\n",
       "      <td>iPad or iPhone App</td>\n",
       "      <td>Negative emotion</td>\n",
       "      <td>iOS</td>\n",
       "      <td>1</td>\n",
       "    </tr>\n",
       "    <tr>\n",
       "      <th>4</th>\n",
       "      <td>great stuff on fri sxsw marissa mayer google tim o reilly tech books conferences matt mullenweg wordpress</td>\n",
       "      <td>Google</td>\n",
       "      <td>Positive emotion</td>\n",
       "      <td>Google</td>\n",
       "      <td>4</td>\n",
       "    </tr>\n",
       "  </tbody>\n",
       "</table>\n",
       "</div>"
      ],
      "text/plain": [
       "                                                                                                            tweet_text  \\\n",
       "0            i have a g iphone after hrs tweeting at rise austin it was dead i need to upgrade plugin stations at sxsw   \n",
       "1  know about awesome ipad iphone app that you ll likely appreciate for its design also they re giving free ts at sxsw   \n",
       "2                                                        can not wait for ipad also they should sale them down at sxsw   \n",
       "3                                           i hope this year s festival isn t as crashy as this year s iphone app sxsw   \n",
       "4            great stuff on fri sxsw marissa mayer google tim o reilly tech books conferences matt mullenweg wordpress   \n",
       "\n",
       "                brand           emotion brand_label  target  \n",
       "0              iPhone  Negative emotion         iOS       1  \n",
       "1  iPad or iPhone App  Positive emotion         iOS       1  \n",
       "2                iPad  Positive emotion         iOS       1  \n",
       "3  iPad or iPhone App  Negative emotion         iOS       1  \n",
       "4              Google  Positive emotion      Google       4  "
      ]
     },
     "execution_count": 31,
     "metadata": {},
     "output_type": "execute_result"
    }
   ],
   "source": [
    "# examples of encoded target\n",
    "data_with_target.head()"
   ]
  },
  {
   "cell_type": "code",
   "execution_count": 32,
   "metadata": {},
   "outputs": [
    {
     "data": {
      "text/plain": [
       "1    1713\n",
       "2     954\n",
       "4     430\n",
       "3     159\n",
       "Name: target, dtype: int64"
      ]
     },
     "execution_count": 32,
     "metadata": {},
     "output_type": "execute_result"
    }
   ],
   "source": [
    "data_with_target['target'].value_counts()"
   ]
  },
  {
   "cell_type": "markdown",
   "metadata": {},
   "source": [
    "2. Train-test split on data_with_target. The train set size is 75% of the whole data."
   ]
  },
  {
   "cell_type": "code",
   "execution_count": 33,
   "metadata": {},
   "outputs": [],
   "source": [
    "from sklearn.model_selection import train_test_split\n",
    "\n",
    "train_text, test_text, train_target, test_target = train_test_split(data_with_target.tweet_text, \n",
    "                                                                    data_with_target.target,\n",
    "                                                                    random_state=42\n",
    "                                                                   )"
   ]
  },
  {
   "cell_type": "markdown",
   "metadata": {},
   "source": [
    "### Baseline Models\n",
    "Below steps show how a baseline model is selected."
   ]
  },
  {
   "cell_type": "code",
   "execution_count": 34,
   "metadata": {},
   "outputs": [],
   "source": [
    "# import libraries\n",
    "from sklearn.feature_extraction.text import TfidfVectorizer, CountVectorizer\n",
    "from sklearn.pipeline import Pipeline\n",
    "from sklearn.model_selection import cross_val_score\n",
    "from sklearn.linear_model import LogisticRegression\n",
    "from sklearn.ensemble import RandomForestClassifier\n",
    "from sklearn.svm import SVC\n",
    "from sklearn.naive_bayes import MultinomialNB\n",
    "from sklearn.metrics import accuracy_score, precision_score, confusion_matrix"
   ]
  },
  {
   "cell_type": "code",
   "execution_count": 35,
   "metadata": {},
   "outputs": [],
   "source": [
    "# instantiate vectorizers without tuning\n",
    "tfidf = TfidfVectorizer(max_features=10)\n",
    "cv = CountVectorizer(max_features=10)"
   ]
  },
  {
   "cell_type": "code",
   "execution_count": 36,
   "metadata": {},
   "outputs": [],
   "source": [
    "# building pipelines without tuning\n",
    "lr_t =  Pipeline([('tfidf', tfidf), ('Logistic Regression', LogisticRegression(random_state = 0))])\n",
    "rfc_t =  Pipeline([('tfidf', tfidf), ('Random Forest', RandomForestClassifier(random_state = 0))])\n",
    "svc_t =  Pipeline([('tfidf', tfidf), ('Support Vector', SVC(random_state = 0))])\n",
    "nb_t =  Pipeline([('tfidf', tfidf), ('Naive Bayes', MultinomialNB())])\n",
    "lr_c =  Pipeline([('cv', cv), ('Logistic Regression', LogisticRegression(random_state = 0))])\n",
    "rfc_c =  Pipeline([('cv', cv), ('Random Forest', RandomForestClassifier(random_state = 0))])\n",
    "svc_c =  Pipeline([('cv', cv), ('Support Vector', SVC(random_state = 0))])\n",
    "nb_c =  Pipeline([('cv', cv), ('Naive Bayes', MultinomialNB())])\n",
    "\n",
    "models = [('Logistic Regression tfidf', lr_t),\n",
    "          ('Random Forest tfidf', rfc_t),\n",
    "          ('Support Vector tfidf', svc_t),\n",
    "          ('Naive Bayes tfidf', nb_t),\n",
    "          ('Logistic Regression cv', lr_c),\n",
    "          ('Random Forest cv', rfc_c),\n",
    "          ('Support Vector cv', svc_c),\n",
    "          ('Naive Bayes cv', nb_c)\n",
    "         ]"
   ]
  },
  {
   "cell_type": "code",
   "execution_count": 37,
   "metadata": {},
   "outputs": [
    {
     "data": {
      "text/plain": [
       "[('Logistic Regression tfidf', 0.8144967984176473),\n",
       " ('Random Forest tfidf', 0.8050722451305775),\n",
       " ('Support Vector tfidf', 0.8218671427134667),\n",
       " ('Naive Bayes tfidf', 0.749393207951993),\n",
       " ('Logistic Regression cv', 0.814906634483221),\n",
       " ('Random Forest cv', 0.805482919306715),\n",
       " ('Support Vector cv', 0.8157263066143686),\n",
       " ('Naive Bayes cv', 0.7985333065137953)]"
      ]
     },
     "execution_count": 37,
     "metadata": {},
     "output_type": "execute_result"
    }
   ],
   "source": [
    "# Validation scores\n",
    "[(name, cross_val_score(model, train_text, train_target, cv=5).mean()) for name, model in models]"
   ]
  },
  {
   "cell_type": "code",
   "execution_count": 38,
   "metadata": {},
   "outputs": [],
   "source": [
    "# Accuracy scores using test data from train-test split\n",
    "def accuracy(model):\n",
    "    model.fit(train_text, train_target)\n",
    "    pred_target = model.predict(test_text)\n",
    "    return accuracy_score(test_target, pred_target)"
   ]
  },
  {
   "cell_type": "code",
   "execution_count": 39,
   "metadata": {},
   "outputs": [
    {
     "data": {
      "text/plain": [
       "[('Logistic Regression tfidf', 0.7886977886977887),\n",
       " ('Random Forest tfidf', 0.8034398034398035),\n",
       " ('Support Vector tfidf', 0.8071253071253072),\n",
       " ('Naive Bayes tfidf', 0.7174447174447175),\n",
       " ('Logistic Regression cv', 0.7948402948402948),\n",
       " ('Random Forest cv', 0.800982800982801),\n",
       " ('Support Vector cv', 0.7960687960687961),\n",
       " ('Naive Bayes cv', 0.7874692874692875)]"
      ]
     },
     "execution_count": 39,
     "metadata": {},
     "output_type": "execute_result"
    }
   ],
   "source": [
    "[(name, accuracy(model)) for name, model in models]"
   ]
  },
  {
   "cell_type": "code",
   "execution_count": 40,
   "metadata": {
    "scrolled": false
   },
   "outputs": [
    {
     "data": {
      "image/png": "[encoded data removed]",
      "text/plain": [
       "<Figure size 432x288 with 2 Axes>"
      ]
     },
     "metadata": {
      "needs_background": "light"
     },
     "output_type": "display_data"
    },
    {
     "data": {
      "image/png": "[encoded data removed]",
      "text/plain": [
       "<Figure size 432x288 with 2 Axes>"
      ]
     },
     "metadata": {
      "needs_background": "light"
     },
     "output_type": "display_data"
    },
    {
     "data": {
      "image/png": "[encoded data removed]",
      "text/plain": [
       "<Figure size 432x288 with 2 Axes>"
      ]
     },
     "metadata": {
      "needs_background": "light"
     },
     "output_type": "display_data"
    },
    {
     "data": {
      "image/png": "[encoded data removed]",
      "text/plain": [
       "<Figure size 432x288 with 2 Axes>"
      ]
     },
     "metadata": {
      "needs_background": "light"
     },
     "output_type": "display_data"
    },
    {
     "data": {
      "image/png": "[encoded data removed]",
      "text/plain": [
       "<Figure size 432x288 with 2 Axes>"
      ]
     },
     "metadata": {
      "needs_background": "light"
     },
     "output_type": "display_data"
    },
    {
     "data": {
      "image/png": "[encoded data removed]",
      "text/plain": [
       "<Figure size 432x288 with 2 Axes>"
      ]
     },
     "metadata": {
      "needs_background": "light"
     },
     "output_type": "display_data"
    },
    {
     "data": {
      "image/png": "[encoded data removed]",
      "text/plain": [
       "<Figure size 432x288 with 2 Axes>"
      ]
     },
     "metadata": {
      "needs_background": "light"
     },
     "output_type": "display_data"
    },
    {
     "data": {
      "image/png": "[encoded data removed]",
      "text/plain": [
       "<Figure size 432x288 with 2 Axes>"
      ]
     },
     "metadata": {
      "needs_background": "light"
     },
     "output_type": "display_data"
    }
   ],
   "source": [
    "# confusion matrix\n",
    "\n",
    "from sklearn.metrics import plot_confusion_matrix\n",
    "for name, model in models:\n",
    "    \n",
    "    disp = plot_confusion_matrix(model, test_text, test_target)\n",
    "    disp.ax_.set_title(name)    "
   ]
  },
  {
   "cell_type": "markdown",
   "metadata": {},
   "source": [
    "#### Baseline model selection summary\n",
    "1. The highest validation score and accuracy score are found by using Tfidf vectorizer. Therefore, only Tfidf is kept for the further analysis.\n",
    "2. Naive Bayes has the lowest scores, but this model is kept for the reference.\n",
    "3. Confusion matrices shows '3' is barely predicted where '3' is Android or Google's mobile products. Hopefully, next section would capture more '3's. "
   ]
  },
  {
   "cell_type": "markdown",
   "metadata": {},
   "source": [
    "### Iterative Approach\n",
    "####  Stopwords\n",
    "The first iterative step is to filter stopwords on tfidf instantiation."
   ]
  },
  {
   "cell_type": "code",
   "execution_count": 41,
   "metadata": {},
   "outputs": [],
   "source": [
    "from nltk.corpus import stopwords\n",
    "stopwords_list = stopwords.words('english')"
   ]
  },
  {
   "cell_type": "code",
   "execution_count": 42,
   "metadata": {},
   "outputs": [],
   "source": [
    "# stopword coding is included during tfidf instantiation\n",
    "tfidf = TfidfVectorizer(max_features=10, stop_words=stopwords_list)\n",
    "lr_t =  Pipeline([('tfidf', tfidf), ('Logistic Regression', LogisticRegression(random_state = 0))])\n",
    "rfc_t =  Pipeline([('tfidf', tfidf), ('Random Forest', RandomForestClassifier(random_state = 0))])\n",
    "svc_t =  Pipeline([('tfidf', tfidf), ('Support Vector', SVC(random_state = 0))])\n",
    "nb_t =  Pipeline([('tfidf', tfidf), ('Naive Bayes', MultinomialNB())])"
   ]
  },
  {
   "cell_type": "code",
   "execution_count": 43,
   "metadata": {},
   "outputs": [],
   "source": [
    "models_1 = [('Logistic Regression tfidf', lr_t),\n",
    "            ('Random Forest tfidf', rfc_t),\n",
    "            ('Support Vector tfidf', svc_t),\n",
    "            ('Naive Bayes tfidf', nb_t)\n",
    "           ]"
   ]
  },
  {
   "cell_type": "code",
   "execution_count": 44,
   "metadata": {},
   "outputs": [
    {
     "data": {
      "text/plain": [
       "[('Logistic Regression tfidf', 0.848483857990546),\n",
       " ('Random Forest tfidf', 0.8501206879211505),\n",
       " ('Support Vector tfidf', 0.854215696134634),\n",
       " ('Naive Bayes tfidf', 0.8034396057527908)]"
      ]
     },
     "execution_count": 44,
     "metadata": {},
     "output_type": "execute_result"
    }
   ],
   "source": [
    "# validation scores\n",
    "[(name, cross_val_score(model, train_text, train_target, cv=5).mean()) for name, model in models_1]"
   ]
  },
  {
   "cell_type": "code",
   "execution_count": 45,
   "metadata": {},
   "outputs": [
    {
     "data": {
      "text/plain": [
       "[('Logistic Regression tfidf', 0.8353808353808354),\n",
       " ('Random Forest tfidf', 0.8366093366093366),\n",
       " ('Support Vector tfidf', 0.8390663390663391),\n",
       " ('Naive Bayes tfidf', 0.7862407862407862)]"
      ]
     },
     "execution_count": 45,
     "metadata": {},
     "output_type": "execute_result"
    }
   ],
   "source": [
    "# accuracy scores\n",
    "[(name, accuracy(model)) for name, model in models_1]"
   ]
  },
  {
   "cell_type": "code",
   "execution_count": 46,
   "metadata": {
    "scrolled": false
   },
   "outputs": [
    {
     "data": {
      "image/png": "[encoded data removed]",
      "text/plain": [
       "<Figure size 432x288 with 2 Axes>"
      ]
     },
     "metadata": {
      "needs_background": "light"
     },
     "output_type": "display_data"
    },
    {
     "data": {
      "image/png": "[encoded data removed]",
      "text/plain": [
       "<Figure size 432x288 with 2 Axes>"
      ]
     },
     "metadata": {
      "needs_background": "light"
     },
     "output_type": "display_data"
    },
    {
     "data": {
      "image/png": "[encoded data removed]",
      "text/plain": [
       "<Figure size 432x288 with 2 Axes>"
      ]
     },
     "metadata": {
      "needs_background": "light"
     },
     "output_type": "display_data"
    },
    {
     "data": {
      "image/png": "[encoded data removed]",
      "text/plain": [
       "<Figure size 432x288 with 2 Axes>"
      ]
     },
     "metadata": {
      "needs_background": "light"
     },
     "output_type": "display_data"
    }
   ],
   "source": [
    "# more confusion matrices\n",
    "for name, model in models_1:\n",
    "    \n",
    "    disp = plot_confusion_matrix(model, test_text, test_target)\n",
    "    disp.ax_.set_title(name)   "
   ]
  },
  {
   "cell_type": "markdown",
   "metadata": {},
   "source": [
    "#### More summary\n",
    "1. Validation scores and accuracy scores are improved.\n",
    "2. Confusion matrices now catches more '3's except for Naive Bayes.\n",
    "\n",
    "### Final Model Part 1\n",
    "SVC model has the highest scores for both validation and accuracy. \n",
    "\n",
    "Max_features during tfidf instantiation is increased from 10 to 100 meaning it will select top 100 words instead of 10 words."
   ]
  },
  {
   "cell_type": "code",
   "execution_count": 47,
   "metadata": {},
   "outputs": [],
   "source": [
    "tfidf = TfidfVectorizer(max_features=100, stop_words=stopwords_list)\n",
    "final_model =  Pipeline([('tfidf', tfidf), ('Support Vector', SVC(random_state = 0))])"
   ]
  },
  {
   "cell_type": "code",
   "execution_count": 48,
   "metadata": {},
   "outputs": [
    {
     "data": {
      "text/plain": [
       "0.9049943008481678"
      ]
     },
     "execution_count": 48,
     "metadata": {},
     "output_type": "execute_result"
    }
   ],
   "source": [
    "cross_val_score(final_model, train_text, train_target, cv=5).mean()"
   ]
  },
  {
   "cell_type": "code",
   "execution_count": 49,
   "metadata": {},
   "outputs": [
    {
     "data": {
      "text/plain": [
       "0.8869778869778869"
      ]
     },
     "execution_count": 49,
     "metadata": {},
     "output_type": "execute_result"
    }
   ],
   "source": [
    "accuracy(final_model)"
   ]
  },
  {
   "cell_type": "code",
   "execution_count": 50,
   "metadata": {
    "scrolled": true
   },
   "outputs": [
    {
     "data": {
      "image/png": "[encoded data removed]",
      "text/plain": [
       "<Figure size 432x288 with 2 Axes>"
      ]
     },
     "metadata": {
      "needs_background": "light"
     },
     "output_type": "display_data"
    }
   ],
   "source": [
    "disp = plot_confusion_matrix(final_model, test_text, test_target)\n",
    "disp.ax_.set_title('Support Vector with TFIDF');"
   ]
  },
  {
   "cell_type": "markdown",
   "metadata": {},
   "source": [
    "The scores are a lot more improved."
   ]
  },
  {
   "cell_type": "markdown",
   "metadata": {},
   "source": [
    "## Final Model Part 2\n",
    "\n",
    "Gridsearch is used to see if SVC model can be improved."
   ]
  },
  {
   "cell_type": "code",
   "execution_count": 51,
   "metadata": {},
   "outputs": [],
   "source": [
    "from sklearn.model_selection import GridSearchCV"
   ]
  },
  {
   "cell_type": "code",
   "execution_count": 52,
   "metadata": {},
   "outputs": [
    {
     "data": {
      "text/plain": [
       "{'svc__C': 1, 'svc__gamma': 'scale', 'svc__kernel': 'rbf'}"
      ]
     },
     "execution_count": 52,
     "metadata": {},
     "output_type": "execute_result"
    }
   ],
   "source": [
    "pipe = Pipeline([('tfidf', tfidf), ('svc', SVC(random_state = 0))])\n",
    "param = {'svc__C': [0.1, 1, 10, 100, 1000],\n",
    "         'svc__gamma': ['auto' ,'scale', 1, 0.1, 0.01, 0.001, 0.0001],\n",
    "         'svc__kernel': ['linear', 'poly', 'rbf', 'sigmoid', 'precomputed']}\n",
    "gs = GridSearchCV(estimator=pipe,\n",
    "                  param_grid=param,\n",
    "                  cv=5)\n",
    "gs.fit(train_text, train_target)\n",
    "gs.best_params_"
   ]
  },
  {
   "cell_type": "markdown",
   "metadata": {},
   "source": [
    "The best parameters are just the default values. No further tuning is done.\n",
    "## Merging Predicted Brand to the Data\n",
    "The fitted final model is used to predict and categorize missing brand information."
   ]
  },
  {
   "cell_type": "code",
   "execution_count": 53,
   "metadata": {},
   "outputs": [],
   "source": [
    "final_model.fit(train_text, train_target)\n",
    "pred_target = final_model.predict(data_no_target.tweet_text)\n",
    "data_no_target['target'] = pred_target"
   ]
  },
  {
   "cell_type": "code",
   "execution_count": 54,
   "metadata": {},
   "outputs": [],
   "source": [
    "# function to decode target values to the names of categories\n",
    "def inv_transform_target(data):\n",
    "    for k, v in trans.items():\n",
    "        if data == v:\n",
    "            data = k\n",
    "        else:\n",
    "            pass\n",
    "    return data"
   ]
  },
  {
   "cell_type": "code",
   "execution_count": 55,
   "metadata": {},
   "outputs": [],
   "source": [
    "data_no_target['brand_label'] = data_no_target['target'].apply(inv_transform_target)"
   ]
  },
  {
   "cell_type": "code",
   "execution_count": 56,
   "metadata": {},
   "outputs": [
    {
     "data": {
      "text/html": [
       "<div>\n",
       "<style scoped>\n",
       "    .dataframe tbody tr th:only-of-type {\n",
       "        vertical-align: middle;\n",
       "    }\n",
       "\n",
       "    .dataframe tbody tr th {\n",
       "        vertical-align: top;\n",
       "    }\n",
       "\n",
       "    .dataframe thead th {\n",
       "        text-align: right;\n",
       "    }\n",
       "</style>\n",
       "<table border=\"1\" class=\"dataframe\">\n",
       "  <thead>\n",
       "    <tr style=\"text-align: right;\">\n",
       "      <th></th>\n",
       "      <th>tweet_text</th>\n",
       "      <th>brand</th>\n",
       "      <th>emotion</th>\n",
       "      <th>brand_label</th>\n",
       "      <th>target</th>\n",
       "    </tr>\n",
       "  </thead>\n",
       "  <tbody>\n",
       "    <tr>\n",
       "      <th>5</th>\n",
       "      <td>new ipad apps for speechtherapy and communication are showcased at the sxsw conference iear edchat asd</td>\n",
       "      <td>NaN</td>\n",
       "      <td>No Emotion</td>\n",
       "      <td>iOS</td>\n",
       "      <td>1</td>\n",
       "    </tr>\n",
       "    <tr>\n",
       "      <th>16</th>\n",
       "      <td>holler gram for ipad on the itunes app store via is ken sxsw</td>\n",
       "      <td>NaN</td>\n",
       "      <td>No Emotion</td>\n",
       "      <td>iOS</td>\n",
       "      <td>1</td>\n",
       "    </tr>\n",
       "    <tr>\n",
       "      <th>32</th>\n",
       "      <td>attn all sxsw frineds register for gdgtlive and see cobra iradar for android link</td>\n",
       "      <td>NaN</td>\n",
       "      <td>No Emotion</td>\n",
       "      <td>Android</td>\n",
       "      <td>3</td>\n",
       "    </tr>\n",
       "    <tr>\n",
       "      <th>33</th>\n",
       "      <td>anyone at sxsw want to sell their old ipad</td>\n",
       "      <td>NaN</td>\n",
       "      <td>No Emotion</td>\n",
       "      <td>iOS</td>\n",
       "      <td>1</td>\n",
       "    </tr>\n",
       "    <tr>\n",
       "      <th>34</th>\n",
       "      <td>anyone at sxsw who bought the new ipad want to sell their older ipad to me</td>\n",
       "      <td>NaN</td>\n",
       "      <td>No Emotion</td>\n",
       "      <td>iOS</td>\n",
       "      <td>1</td>\n",
       "    </tr>\n",
       "  </tbody>\n",
       "</table>\n",
       "</div>"
      ],
      "text/plain": [
       "                                                                                                tweet_text  \\\n",
       "5   new ipad apps for speechtherapy and communication are showcased at the sxsw conference iear edchat asd   \n",
       "16                                            holler gram for ipad on the itunes app store via is ken sxsw   \n",
       "32                       attn all sxsw frineds register for gdgtlive and see cobra iradar for android link   \n",
       "33                                                              anyone at sxsw want to sell their old ipad   \n",
       "34                              anyone at sxsw who bought the new ipad want to sell their older ipad to me   \n",
       "\n",
       "   brand     emotion brand_label  target  \n",
       "5    NaN  No Emotion         iOS       1  \n",
       "16   NaN  No Emotion         iOS       1  \n",
       "32   NaN  No Emotion     Android       3  \n",
       "33   NaN  No Emotion         iOS       1  \n",
       "34   NaN  No Emotion         iOS       1  "
      ]
     },
     "execution_count": 56,
     "metadata": {},
     "output_type": "execute_result"
    }
   ],
   "source": [
    "# examples of labled column for brand_label\n",
    "data_no_target.head()"
   ]
  },
  {
   "cell_type": "code",
   "execution_count": 57,
   "metadata": {},
   "outputs": [
    {
     "data": {
      "text/html": [
       "<div>\n",
       "<style scoped>\n",
       "    .dataframe tbody tr th:only-of-type {\n",
       "        vertical-align: middle;\n",
       "    }\n",
       "\n",
       "    .dataframe tbody tr th {\n",
       "        vertical-align: top;\n",
       "    }\n",
       "\n",
       "    .dataframe thead th {\n",
       "        text-align: right;\n",
       "    }\n",
       "</style>\n",
       "<table border=\"1\" class=\"dataframe\">\n",
       "  <thead>\n",
       "    <tr style=\"text-align: right;\">\n",
       "      <th></th>\n",
       "      <th>tweet_text</th>\n",
       "      <th>brand</th>\n",
       "      <th>emotion</th>\n",
       "      <th>brand_label</th>\n",
       "      <th>target</th>\n",
       "    </tr>\n",
       "  </thead>\n",
       "  <tbody>\n",
       "    <tr>\n",
       "      <th>0</th>\n",
       "      <td>i have a g iphone after hrs tweeting at rise austin it was dead i need to upgrade plugin stations at sxsw</td>\n",
       "      <td>iPhone</td>\n",
       "      <td>Negative emotion</td>\n",
       "      <td>iOS</td>\n",
       "      <td>1</td>\n",
       "    </tr>\n",
       "    <tr>\n",
       "      <th>1</th>\n",
       "      <td>know about awesome ipad iphone app that you ll likely appreciate for its design also they re giving free ts at sxsw</td>\n",
       "      <td>iPad or iPhone App</td>\n",
       "      <td>Positive emotion</td>\n",
       "      <td>iOS</td>\n",
       "      <td>1</td>\n",
       "    </tr>\n",
       "    <tr>\n",
       "      <th>2</th>\n",
       "      <td>can not wait for ipad also they should sale them down at sxsw</td>\n",
       "      <td>iPad</td>\n",
       "      <td>Positive emotion</td>\n",
       "      <td>iOS</td>\n",
       "      <td>1</td>\n",
       "    </tr>\n",
       "    <tr>\n",
       "      <th>3</th>\n",
       "      <td>i hope this year s festival isn t as crashy as this year s iphone app sxsw</td>\n",
       "      <td>iPad or iPhone App</td>\n",
       "      <td>Negative emotion</td>\n",
       "      <td>iOS</td>\n",
       "      <td>1</td>\n",
       "    </tr>\n",
       "    <tr>\n",
       "      <th>4</th>\n",
       "      <td>great stuff on fri sxsw marissa mayer google tim o reilly tech books conferences matt mullenweg wordpress</td>\n",
       "      <td>Google</td>\n",
       "      <td>Positive emotion</td>\n",
       "      <td>Google</td>\n",
       "      <td>4</td>\n",
       "    </tr>\n",
       "    <tr>\n",
       "      <th>...</th>\n",
       "      <td>...</td>\n",
       "      <td>...</td>\n",
       "      <td>...</td>\n",
       "      <td>...</td>\n",
       "      <td>...</td>\n",
       "    </tr>\n",
       "    <tr>\n",
       "      <th>9088</th>\n",
       "      <td>ipad everywhere sxsw link</td>\n",
       "      <td>iPad</td>\n",
       "      <td>Positive emotion</td>\n",
       "      <td>iOS</td>\n",
       "      <td>1</td>\n",
       "    </tr>\n",
       "    <tr>\n",
       "      <th>9089</th>\n",
       "      <td>wave buzz rt we interrupt your regularly scheduled sxsw geek programming with big news link google circles</td>\n",
       "      <td>NaN</td>\n",
       "      <td>No Emotion</td>\n",
       "      <td>Apple</td>\n",
       "      <td>2</td>\n",
       "    </tr>\n",
       "    <tr>\n",
       "      <th>9090</th>\n",
       "      <td>google s zeiger a physician never reported potential ae yet fda relies on physicians we re operating w out data sxsw health dev</td>\n",
       "      <td>NaN</td>\n",
       "      <td>No Emotion</td>\n",
       "      <td>Google</td>\n",
       "      <td>4</td>\n",
       "    </tr>\n",
       "    <tr>\n",
       "      <th>9091</th>\n",
       "      <td>some verizon iphone customers complained their time fell back an hour this weekend of course they were the new yorkers who attended sxsw</td>\n",
       "      <td>NaN</td>\n",
       "      <td>No Emotion</td>\n",
       "      <td>iOS</td>\n",
       "      <td>1</td>\n",
       "    </tr>\n",
       "    <tr>\n",
       "      <th>9092</th>\n",
       "      <td>rt google tests check in offers at sxsw link</td>\n",
       "      <td>NaN</td>\n",
       "      <td>No Emotion</td>\n",
       "      <td>Google</td>\n",
       "      <td>4</td>\n",
       "    </tr>\n",
       "  </tbody>\n",
       "</table>\n",
       "<p>9092 rows × 5 columns</p>\n",
       "</div>"
      ],
      "text/plain": [
       "                                                                                                                                    tweet_text  \\\n",
       "0                                    i have a g iphone after hrs tweeting at rise austin it was dead i need to upgrade plugin stations at sxsw   \n",
       "1                          know about awesome ipad iphone app that you ll likely appreciate for its design also they re giving free ts at sxsw   \n",
       "2                                                                                can not wait for ipad also they should sale them down at sxsw   \n",
       "3                                                                   i hope this year s festival isn t as crashy as this year s iphone app sxsw   \n",
       "4                                    great stuff on fri sxsw marissa mayer google tim o reilly tech books conferences matt mullenweg wordpress   \n",
       "...                                                                                                                                        ...   \n",
       "9088                                                                                                                 ipad everywhere sxsw link   \n",
       "9089                                wave buzz rt we interrupt your regularly scheduled sxsw geek programming with big news link google circles   \n",
       "9090           google s zeiger a physician never reported potential ae yet fda relies on physicians we re operating w out data sxsw health dev   \n",
       "9091  some verizon iphone customers complained their time fell back an hour this weekend of course they were the new yorkers who attended sxsw   \n",
       "9092                                                                                              rt google tests check in offers at sxsw link   \n",
       "\n",
       "                   brand           emotion brand_label  target  \n",
       "0                 iPhone  Negative emotion         iOS       1  \n",
       "1     iPad or iPhone App  Positive emotion         iOS       1  \n",
       "2                   iPad  Positive emotion         iOS       1  \n",
       "3     iPad or iPhone App  Negative emotion         iOS       1  \n",
       "4                 Google  Positive emotion      Google       4  \n",
       "...                  ...               ...         ...     ...  \n",
       "9088                iPad  Positive emotion         iOS       1  \n",
       "9089                 NaN        No Emotion       Apple       2  \n",
       "9090                 NaN        No Emotion      Google       4  \n",
       "9091                 NaN        No Emotion         iOS       1  \n",
       "9092                 NaN        No Emotion      Google       4  \n",
       "\n",
       "[9092 rows x 5 columns]"
      ]
     },
     "execution_count": 57,
     "metadata": {},
     "output_type": "execute_result"
    }
   ],
   "source": [
    "# examples of whole dataset\n",
    "data = pd.concat([data_with_target, data_no_target], axis = 0)\n",
    "data.sort_index(inplace = True)\n",
    "data"
   ]
  },
  {
   "cell_type": "code",
   "execution_count": 58,
   "metadata": {},
   "outputs": [
    {
     "data": {
      "text/plain": [
       "iOS        4497\n",
       "Apple      2691\n",
       "Google     1491\n",
       "Android     413\n",
       "Name: brand_label, dtype: int64"
      ]
     },
     "execution_count": 58,
     "metadata": {},
     "output_type": "execute_result"
    }
   ],
   "source": [
    "data.brand_label.value_counts()"
   ]
  },
  {
   "cell_type": "code",
   "execution_count": 59,
   "metadata": {},
   "outputs": [
    {
     "data": {
      "text/plain": [
       "No Emotion          5388\n",
       "Positive emotion    2978\n",
       "Negative emotion     570\n",
       "I can't tell         156\n",
       "Name: emotion, dtype: int64"
      ]
     },
     "execution_count": 59,
     "metadata": {},
     "output_type": "execute_result"
    }
   ],
   "source": [
    "data.emotion.value_counts()"
   ]
  },
  {
   "cell_type": "code",
   "execution_count": 60,
   "metadata": {},
   "outputs": [],
   "source": [
    "# selecting data for Apple\n",
    "data_apple = data.loc[(data.brand_label == 'iOS') | (data.brand_label == 'Apple')]"
   ]
  },
  {
   "cell_type": "code",
   "execution_count": 61,
   "metadata": {},
   "outputs": [
    {
     "data": {
      "text/plain": [
       "7188"
      ]
     },
     "execution_count": 61,
     "metadata": {},
     "output_type": "execute_result"
    }
   ],
   "source": [
    "len(data_apple)"
   ]
  },
  {
   "cell_type": "code",
   "execution_count": 62,
   "metadata": {},
   "outputs": [],
   "source": [
    "# selecting data for Google\n",
    "data_google = data.loc[(data.brand_label == 'Android') | (data.brand_label == 'Google')]"
   ]
  },
  {
   "cell_type": "code",
   "execution_count": 63,
   "metadata": {},
   "outputs": [
    {
     "data": {
      "text/plain": [
       "1904"
      ]
     },
     "execution_count": 63,
     "metadata": {},
     "output_type": "execute_result"
    }
   ],
   "source": [
    "len(data_google)"
   ]
  },
  {
   "cell_type": "markdown",
   "metadata": {},
   "source": [
    "# Result\n",
    "\n",
    "## Visualization"
   ]
  },
  {
   "cell_type": "code",
   "execution_count": 64,
   "metadata": {},
   "outputs": [],
   "source": [
    "import code.visualizations as viz"
   ]
  },
  {
   "cell_type": "markdown",
   "metadata": {},
   "source": [
    "- **Overall emotion percentages for Apple**"
   ]
  },
  {
   "cell_type": "code",
   "execution_count": 65,
   "metadata": {},
   "outputs": [
    {
     "data": {
      "text/plain": [
       "No Emotion          4171\n",
       "Positive emotion    2417\n",
       "Negative emotion     473\n",
       "I can't tell         127\n",
       "Name: emotion, dtype: int64"
      ]
     },
     "execution_count": 65,
     "metadata": {},
     "output_type": "execute_result"
    }
   ],
   "source": [
    "data_apple.emotion.value_counts()"
   ]
  },
  {
   "cell_type": "code",
   "execution_count": 66,
   "metadata": {
    "scrolled": false
   },
   "outputs": [
    {
     "data": {
      "image/png": "[encoded data removed]",
      "text/plain": [
       "<Figure size 504x576 with 1 Axes>"
      ]
     },
     "metadata": {
      "needs_background": "light"
     },
     "output_type": "display_data"
    }
   ],
   "source": [
    "viz.result(data_apple.emotion.value_counts(normalize=True), \n",
    "           'Apple Emotion Percentage', \n",
    "           ['silver','tab:blue','tab:red'])"
   ]
  },
  {
   "cell_type": "markdown",
   "metadata": {},
   "source": [
    "- **Emotion percentages for Apple's mobile products**"
   ]
  },
  {
   "cell_type": "code",
   "execution_count": 67,
   "metadata": {},
   "outputs": [
    {
     "data": {
      "text/plain": [
       "No Emotion          2543\n",
       "Positive emotion    1559\n",
       "Negative emotion     317\n",
       "I can't tell          78\n",
       "Name: emotion, dtype: int64"
      ]
     },
     "execution_count": 67,
     "metadata": {},
     "output_type": "execute_result"
    }
   ],
   "source": [
    "data_apple.emotion.loc[data_apple.brand_label == 'iOS'].value_counts()"
   ]
  },
  {
   "cell_type": "code",
   "execution_count": 68,
   "metadata": {
    "scrolled": false
   },
   "outputs": [
    {
     "data": {
      "image/png": "[encoded data removed]",
      "text/plain": [
       "<Figure size 504x576 with 1 Axes>"
      ]
     },
     "metadata": {
      "needs_background": "light"
     },
     "output_type": "display_data"
    }
   ],
   "source": [
    "gdata = data_apple.emotion.loc[data_apple.brand_label == 'iOS'].value_counts(normalize=True)\n",
    "viz.result(gdata, \n",
    "           'Apple Mobile Emotion Percentage', \n",
    "           ['silver','tab:blue','tab:red'])"
   ]
  },
  {
   "cell_type": "markdown",
   "metadata": {},
   "source": [
    "- **Emotion percentages for Apple's other products**"
   ]
  },
  {
   "cell_type": "code",
   "execution_count": 69,
   "metadata": {},
   "outputs": [
    {
     "data": {
      "text/plain": [
       "No Emotion          1628\n",
       "Positive emotion     858\n",
       "Negative emotion     156\n",
       "I can't tell          49\n",
       "Name: emotion, dtype: int64"
      ]
     },
     "execution_count": 69,
     "metadata": {},
     "output_type": "execute_result"
    }
   ],
   "source": [
    "data_apple.emotion.loc[data_apple.brand_label == 'Apple'].value_counts()"
   ]
  },
  {
   "cell_type": "code",
   "execution_count": 70,
   "metadata": {},
   "outputs": [
    {
     "data": {
      "image/png": "[encoded data removed]",
      "text/plain": [
       "<Figure size 504x576 with 1 Axes>"
      ]
     },
     "metadata": {
      "needs_background": "light"
     },
     "output_type": "display_data"
    }
   ],
   "source": [
    "gdata = data_apple.emotion.loc[data_apple.brand_label == 'Apple'].value_counts(normalize=True)\n",
    "viz.result(gdata, \n",
    "           'Apple Other Emotion Percentage', \n",
    "           ['silver','tab:blue','tab:red'])"
   ]
  },
  {
   "cell_type": "markdown",
   "metadata": {},
   "source": [
    "- **Overall emotion percentages for Google**"
   ]
  },
  {
   "cell_type": "code",
   "execution_count": 71,
   "metadata": {},
   "outputs": [
    {
     "data": {
      "text/plain": [
       "No Emotion          1217\n",
       "Positive emotion     561\n",
       "Negative emotion      97\n",
       "I can't tell          29\n",
       "Name: emotion, dtype: int64"
      ]
     },
     "execution_count": 71,
     "metadata": {},
     "output_type": "execute_result"
    }
   ],
   "source": [
    "data_google.emotion.value_counts()"
   ]
  },
  {
   "cell_type": "code",
   "execution_count": 72,
   "metadata": {},
   "outputs": [
    {
     "data": {
      "image/png": "[encoded data removed]",
      "text/plain": [
       "<Figure size 504x576 with 1 Axes>"
      ]
     },
     "metadata": {
      "needs_background": "light"
     },
     "output_type": "display_data"
    }
   ],
   "source": [
    "viz.result(data_google.emotion.value_counts(normalize=True), \n",
    "           'Google Emotion Percentage', \n",
    "           ['silver','tab:blue','tab:red'])"
   ]
  },
  {
   "cell_type": "markdown",
   "metadata": {},
   "source": [
    "- **Emotion percentages for Google's mobile products**"
   ]
  },
  {
   "cell_type": "code",
   "execution_count": 73,
   "metadata": {},
   "outputs": [
    {
     "data": {
      "text/plain": [
       "No Emotion          236\n",
       "Positive emotion    156\n",
       "Negative emotion     19\n",
       "I can't tell          2\n",
       "Name: emotion, dtype: int64"
      ]
     },
     "execution_count": 73,
     "metadata": {},
     "output_type": "execute_result"
    }
   ],
   "source": [
    "data_google.emotion.loc[data_google.brand_label == 'Android'].value_counts()"
   ]
  },
  {
   "cell_type": "code",
   "execution_count": 74,
   "metadata": {},
   "outputs": [
    {
     "data": {
      "image/png": "[encoded data removed]",
      "text/plain": [
       "<Figure size 504x576 with 1 Axes>"
      ]
     },
     "metadata": {
      "needs_background": "light"
     },
     "output_type": "display_data"
    }
   ],
   "source": [
    "gdata = data_google.emotion.loc[data_google.brand_label == 'Android'].value_counts(normalize=True)\n",
    "viz.result(gdata, \n",
    "           'Google Mobile Emotion Percentage', \n",
    "           ['silver','tab:blue','tab:red'])"
   ]
  },
  {
   "cell_type": "markdown",
   "metadata": {},
   "source": [
    "- **Emotion percentages for Google's other products**"
   ]
  },
  {
   "cell_type": "code",
   "execution_count": 75,
   "metadata": {},
   "outputs": [
    {
     "data": {
      "text/plain": [
       "No Emotion          981\n",
       "Positive emotion    405\n",
       "Negative emotion     78\n",
       "I can't tell         27\n",
       "Name: emotion, dtype: int64"
      ]
     },
     "execution_count": 75,
     "metadata": {},
     "output_type": "execute_result"
    }
   ],
   "source": [
    "data_google.emotion.loc[data_google.brand_label == 'Google'].value_counts()"
   ]
  },
  {
   "cell_type": "code",
   "execution_count": 76,
   "metadata": {},
   "outputs": [
    {
     "data": {
      "image/png": "[encoded data removed]",
      "text/plain": [
       "<Figure size 504x576 with 1 Axes>"
      ]
     },
     "metadata": {
      "needs_background": "light"
     },
     "output_type": "display_data"
    }
   ],
   "source": [
    "gdata = data_google.emotion.loc[data_google.brand_label == 'Google'].value_counts(normalize=True)\n",
    "viz.result(gdata, \n",
    "           'Google Other Emotion Percentage', \n",
    "           ['silver','tab:blue','tab:red'])"
   ]
  },
  {
   "cell_type": "markdown",
   "metadata": {},
   "source": [
    "The six graphs above shows high rate of \"no emotion\" where \"no emotion\" can be questions, requests, answers, or general information. To see which brand has more worth investing in, we should check the ratio between positive emotion and negative emotion."
   ]
  },
  {
   "cell_type": "code",
   "execution_count": 77,
   "metadata": {},
   "outputs": [
    {
     "data": {
      "text/html": [
       "<div>\n",
       "<style scoped>\n",
       "    .dataframe tbody tr th:only-of-type {\n",
       "        vertical-align: middle;\n",
       "    }\n",
       "\n",
       "    .dataframe tbody tr th {\n",
       "        vertical-align: top;\n",
       "    }\n",
       "\n",
       "    .dataframe thead th {\n",
       "        text-align: right;\n",
       "    }\n",
       "</style>\n",
       "<table border=\"1\" class=\"dataframe\">\n",
       "  <thead>\n",
       "    <tr style=\"text-align: right;\">\n",
       "      <th></th>\n",
       "      <th>Brand</th>\n",
       "      <th>Category</th>\n",
       "      <th>Positive</th>\n",
       "      <th>Negative</th>\n",
       "      <th>Ratio</th>\n",
       "    </tr>\n",
       "  </thead>\n",
       "  <tbody>\n",
       "    <tr>\n",
       "      <th>0</th>\n",
       "      <td>Apple</td>\n",
       "      <td>Overall</td>\n",
       "      <td>2417</td>\n",
       "      <td>473</td>\n",
       "      <td>0.20</td>\n",
       "    </tr>\n",
       "    <tr>\n",
       "      <th>1</th>\n",
       "      <td>Google</td>\n",
       "      <td>Overall</td>\n",
       "      <td>561</td>\n",
       "      <td>97</td>\n",
       "      <td>0.17</td>\n",
       "    </tr>\n",
       "    <tr>\n",
       "      <th>2</th>\n",
       "      <td>Apple</td>\n",
       "      <td>Mobile</td>\n",
       "      <td>1559</td>\n",
       "      <td>317</td>\n",
       "      <td>0.20</td>\n",
       "    </tr>\n",
       "    <tr>\n",
       "      <th>3</th>\n",
       "      <td>Google</td>\n",
       "      <td>Mobile</td>\n",
       "      <td>156</td>\n",
       "      <td>19</td>\n",
       "      <td>0.12</td>\n",
       "    </tr>\n",
       "    <tr>\n",
       "      <th>4</th>\n",
       "      <td>Apple</td>\n",
       "      <td>Others</td>\n",
       "      <td>858</td>\n",
       "      <td>156</td>\n",
       "      <td>0.18</td>\n",
       "    </tr>\n",
       "    <tr>\n",
       "      <th>5</th>\n",
       "      <td>Google</td>\n",
       "      <td>Others</td>\n",
       "      <td>405</td>\n",
       "      <td>78</td>\n",
       "      <td>0.19</td>\n",
       "    </tr>\n",
       "  </tbody>\n",
       "</table>\n",
       "</div>"
      ],
      "text/plain": [
       "    Brand Category  Positive  Negative  Ratio\n",
       "0   Apple  Overall      2417       473   0.20\n",
       "1  Google  Overall       561        97   0.17\n",
       "2   Apple   Mobile      1559       317   0.20\n",
       "3  Google   Mobile       156        19   0.12\n",
       "4   Apple   Others       858       156   0.18\n",
       "5  Google   Others       405        78   0.19"
      ]
     },
     "execution_count": 77,
     "metadata": {},
     "output_type": "execute_result"
    }
   ],
   "source": [
    "# Creating a table with counts\n",
    "ratio = pd.DataFrame({'Brand': ['Apple', 'Google', 'Apple', 'Google', 'Apple', 'Google'],\n",
    "                      'Category': ['Overall', 'Overall', 'Mobile', 'Mobile', 'Others', 'Others'],\n",
    "                      'Positive': [2417, 561, 1559, 156, 858, 405],\n",
    "                      'Negative': [473, 97, 317, 19, 156, 78]\n",
    "                     }\n",
    "                    )\n",
    "# Calculating ratio\n",
    "ratio['Ratio'] = round(ratio.Negative / ratio.Positive, 2)\n",
    "\n",
    "ratio"
   ]
  },
  {
   "cell_type": "markdown",
   "metadata": {},
   "source": [
    "Google has generally lower ratio where lower ratio means the number of negatives is lower compared to the number of positives."
   ]
  },
  {
   "cell_type": "markdown",
   "metadata": {},
   "source": [
    "## The Most Frequent Words\n",
    "Below steps shows which words have the most counts in the all texts within each category."
   ]
  },
  {
   "cell_type": "code",
   "execution_count": 78,
   "metadata": {},
   "outputs": [],
   "source": [
    "from nltk import FreqDist\n",
    "from nltk.corpus import stopwords\n",
    "from nltk import word_tokenize"
   ]
  },
  {
   "cell_type": "code",
   "execution_count": 79,
   "metadata": {},
   "outputs": [],
   "source": [
    "# removing stop words\n",
    "stopwords_list = stopwords.words('english')"
   ]
  },
  {
   "cell_type": "code",
   "execution_count": 80,
   "metadata": {
    "scrolled": true
   },
   "outputs": [
    {
     "data": {
      "text/plain": [
       "[('sxsw', 2578),\n",
       " ('ipad', 1246),\n",
       " ('link', 1029),\n",
       " ('apple', 926),\n",
       " ('rt', 770),\n",
       " ('store', 548),\n",
       " ('iphone', 541),\n",
       " ('app', 336),\n",
       " ('google', 302),\n",
       " ('new', 299),\n",
       " ('austin', 279),\n",
       " ('pop', 214),\n",
       " ('launch', 141),\n",
       " ('one', 139),\n",
       " ('get', 134),\n",
       " ('line', 124),\n",
       " ('via', 117),\n",
       " ('cool', 107),\n",
       " ('day', 100),\n",
       " ('time', 100),\n",
       " ('circles', 98),\n",
       " ('free', 96),\n",
       " ('like', 95),\n",
       " ('today', 94),\n",
       " ('great', 91),\n",
       " ('social', 91),\n",
       " ('temporary', 89),\n",
       " ('downtown', 87),\n",
       " ('opening', 87),\n",
       " ('maps', 86),\n",
       " ('go', 86),\n",
       " ('sxswi', 83),\n",
       " ('awesome', 78),\n",
       " ('love', 77),\n",
       " ('popup', 77),\n",
       " ('got', 76),\n",
       " ('w', 75),\n",
       " ('apps', 73),\n",
       " ('network', 69),\n",
       " ('even', 67),\n",
       " ('open', 66),\n",
       " ('mobile', 66),\n",
       " ('good', 64),\n",
       " ('check', 62),\n",
       " ('first', 61),\n",
       " ('wins', 56),\n",
       " ('want', 56),\n",
       " ('around', 56),\n",
       " ('going', 55),\n",
       " ('video', 55)]"
      ]
     },
     "execution_count": 80,
     "metadata": {},
     "output_type": "execute_result"
    }
   ],
   "source": [
    "# keywords in Apple's positive texts\n",
    "all_apple_positive_text = data_apple.loc[data_apple.emotion == 'Positive emotion'].tweet_text.map(word_tokenize).values\n",
    "all_apple_pos_total_vocab = [word for tweet_text in all_apple_positive_text for word in tweet_text]\n",
    "all_apple_pos_words_stopped = [word for word in all_apple_pos_total_vocab if word not in stopwords_list]\n",
    "FreqDist(all_apple_pos_words_stopped).most_common(50)"
   ]
  },
  {
   "cell_type": "markdown",
   "metadata": {},
   "source": [
    "- Keywords found in Apple's positive texts are sxsw, link, store, app, new, austin, launch, line, cool, circles."
   ]
  },
  {
   "cell_type": "code",
   "execution_count": 81,
   "metadata": {
    "scrolled": true
   },
   "outputs": [
    {
     "data": {
      "text/plain": [
       "[('sxsw', 575),\n",
       " ('google', 434),\n",
       " ('link', 188),\n",
       " ('rt', 167),\n",
       " ('android', 164),\n",
       " ('party', 104),\n",
       " ('app', 64),\n",
       " ('new', 61),\n",
       " ('mayer', 50),\n",
       " ('great', 46),\n",
       " ('marissa', 43),\n",
       " ('mobile', 36),\n",
       " ('w', 33),\n",
       " ('social', 33),\n",
       " ('search', 32),\n",
       " ('good', 31),\n",
       " ('team', 31),\n",
       " ('free', 30),\n",
       " ('time', 29),\n",
       " ('people', 29),\n",
       " ('get', 24),\n",
       " ('circles', 24),\n",
       " ('best', 23),\n",
       " ('check', 23),\n",
       " ('see', 22),\n",
       " ('bing', 22),\n",
       " ('thanks', 22),\n",
       " ('maps', 20),\n",
       " ('fun', 20),\n",
       " ('panel', 20),\n",
       " ('today', 20),\n",
       " ('like', 20),\n",
       " ('think', 19),\n",
       " ('launch', 19),\n",
       " ('network', 19),\n",
       " ('big', 19),\n",
       " ('speak', 18),\n",
       " ('austin', 18),\n",
       " ('gowalla', 17),\n",
       " ('future', 17),\n",
       " ('awesome', 17),\n",
       " ('digital', 17),\n",
       " ('market', 17),\n",
       " ('come', 16),\n",
       " ('got', 16),\n",
       " ('physical', 16),\n",
       " ('love', 15),\n",
       " ('work', 15),\n",
       " ('via', 15),\n",
       " ('choice', 15)]"
      ]
     },
     "execution_count": 81,
     "metadata": {},
     "output_type": "execute_result"
    }
   ],
   "source": [
    "# keywords in Google's positive texts\n",
    "all_google_pos_text = data_google.loc[data_google.emotion == 'Positive emotion'].tweet_text.map(word_tokenize).values\n",
    "all_google_pos_total_vocab = [word for tweet_text in all_google_pos_text for word in tweet_text]\n",
    "all_google_pos_words_stopped = [word for word in all_google_pos_total_vocab if word not in stopwords_list]\n",
    "FreqDist(all_google_pos_words_stopped).most_common(50)"
   ]
  },
  {
   "cell_type": "markdown",
   "metadata": {},
   "source": [
    "- Keywords found in Google's positive texts are sxsw, link, party, app, new, mayer, great, mobile, social, search."
   ]
  },
  {
   "cell_type": "markdown",
   "metadata": {},
   "source": [
    "# Conclusions\n",
    "- **Investing in Google is recommended vs. Apple because Google has a lower ratio of negative emotion by positive emotion.** \n",
    "- **Other than ‘sxsw’, ‘link’, ‘app’, ‘new’, two brands have different keywords found in their sentiments.**\n",
    "\n",
    "### Next Steps\n",
    "Further analysis could help the government gain more insight into understanding people without vaccination.\n",
    "\n",
    "- **Select tweets including one or more keywords.** There are several words that appear in tweets much more frequently than the rest words. We can try to compare the positive rates based on tweets containing one or more keywords.\n",
    "- **Investigate SXSW.** The most frequent keyword in sentiments is SXSW. It might mean something to seek a relationship between Apple and SXSW.\n",
    "- Share the full list of keywords with the client."
   ]
  }
 ],
 "metadata": {
  "kernelspec": {
   "display_name": "Python (learn-env)",
   "language": "python",
   "name": "learn-env"
  },
  "language_info": {
   "codemirror_mode": {
    "name": "ipython",
    "version": 3
   },
   "file_extension": ".py",
   "mimetype": "text/x-python",
   "name": "python",
   "nbconvert_exporter": "python",
   "pygments_lexer": "ipython3",
   "version": "3.8.5"
  }
 },
 "nbformat": 4,
 "nbformat_minor": 4
}
